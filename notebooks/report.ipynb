{
 "cells": [
  {
   "cell_type": "markdown",
   "metadata": {},
   "source": [
    "# Team 02 — Navigation - GPS & IMU Report"
   ]
  },
  {
   "cell_type": "markdown",
   "metadata": {},
   "source": [
    "What we're upto so far! "
   ]
  },
  {
   "cell_type": "markdown",
   "metadata": {},
   "source": [
    "# Steps for Our Project\n",
    "\n",
    "## 1. Generate Data with just our GPS\n",
    "We plan on generating our data by running our robot with just a GPS between a set of waypoints a fixed amount of times and collecting the data for each run. \n",
    "\n",
    "We're currently using a Software In The Loop (SITL) simulation from DroneKit to mimic a real robot with GPS which would output GPS data. \n",
    "\n",
    "Link to the simulator: https://dronekit-python.readthedocs.io/en/latest/develop/sitl_setup.html\n",
    "\n",
    "## 2. Generate Data with our GPS and IMU\n",
    "Then we will repeat the same process with a robot equipped with a GPS as well as a IMU and feed the data into an Extended Kalman Filter (EKF). \n",
    "\n",
    "## 3. Compare Performances \n",
    "Once we have finished generating data, we will then be able to calculate RMSE to compare the performances of the GPS vs the GPS with IMU. We will also be able to analyze the performance of the GPS itself to determine if it is suitable for our needs or if we need a more accurate GPS for our work. "
   ]
  },
  {
   "cell_type": "markdown",
   "metadata": {},
   "source": [
    "# Input/Outputs\n",
    "\n",
    "* python run.py run_robot should allow the user to begin a simulation of the DroneKit robot which would output the GPS (lat, long, alt) coordinates of the simulated robot. \n",
    "\n",
    "* read_logs.py will take an input of a text file of GPS or GPS/IMU logs and output cleaned and filtered versions of this data to be used in other sections. \n",
    "\n",
    "* analysis.py takes GPS coordinates and outputs cartesian coordinates as well as outputs the distance between any two sets of coordinates.\n",
    "\n",
    "* evaluation.py would take an input of GPS or GPS and IMU coordinates and return an RMSE to help evaluate the performance of each.\n",
    " "
   ]
  },
  {
   "cell_type": "code",
   "execution_count": null,
   "metadata": {},
   "outputs": [],
   "source": []
  }
 ],
 "metadata": {
  "kernelspec": {
   "display_name": "Python 3",
   "language": "python",
   "name": "python3"
  },
  "language_info": {
   "codemirror_mode": {
    "name": "ipython",
    "version": 3
   },
   "file_extension": ".py",
   "mimetype": "text/x-python",
   "name": "python",
   "nbconvert_exporter": "python",
   "pygments_lexer": "ipython3",
   "version": "3.8.3"
  }
 },
 "nbformat": 4,
 "nbformat_minor": 4
}
